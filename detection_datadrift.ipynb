{
 "cells": [
  {
   "cell_type": "code",
   "execution_count": 10,
   "id": "a7762717",
   "metadata": {},
   "outputs": [],
   "source": [
    "import pandas as pd\n",
    "import numpy as np\n",
    "from evidently.dashboard import Dashboard\n",
    "from evidently.dashboard.tabs import DataDriftTab, CatTargetDriftTab\n",
    "from evidently.report import Report\n",
    "from evidently.metric_preset import DataDriftPreset\n"
   ]
  },
  {
   "cell_type": "code",
   "execution_count": 11,
   "id": "d46b7577-8274-4786-8554-0aca0420e6ae",
   "metadata": {},
   "outputs": [],
   "source": [
    "X_train = pd.read_csv(\"X_train.csv\")\n",
    "y_train = pd.read_csv(\"y_train.csv\") \n",
    "X_test =  pd.read_csv(\"X_test.csv\")\n",
    "y_pred =  pd.read_csv(\"y_pred.csv\")[\"0\"]\n",
    "y_test = pd.read_csv(\"y_test.csv\")"
   ]
  },
  {
   "cell_type": "code",
   "execution_count": 12,
   "id": "d4a63f4e-dc39-4125-a216-fd15b2cf2934",
   "metadata": {},
   "outputs": [
    {
     "data": {
      "text/plain": [
       "((100, 132), (100, 132))"
      ]
     },
     "execution_count": 12,
     "metadata": {},
     "output_type": "execute_result"
    }
   ],
   "source": [
    "X_train.shape, X_test.shape"
   ]
  },
  {
   "cell_type": "code",
   "execution_count": 13,
   "id": "d4473892-0f0f-4a55-a4ba-f13d4088f87b",
   "metadata": {},
   "outputs": [],
   "source": [
    "X_train[\"target\"] = y_train\n",
    "\n",
    "X_test[\"target\"] = y_pred"
   ]
  },
  {
   "cell_type": "raw",
   "id": "a9d8b775-4570-4575-b981-53251d029d63",
   "metadata": {},
   "source": [
    "X_test[\"target\"] = y_test"
   ]
  },
  {
   "cell_type": "code",
   "execution_count": 14,
   "id": "a51e0ed0",
   "metadata": {},
   "outputs": [
    {
     "ename": "FileNotFoundError",
     "evalue": "[Errno 2] No such file or directory: 'c:\\\\Users\\\\matth\\\\miniconda3\\\\lib\\\\site-packages\\\\evidently\\\\nbextension\\\\static\\\\index.js'",
     "output_type": "error",
     "traceback": [
      "\u001b[1;31m---------------------------------------------------------------------------\u001b[0m",
      "\u001b[1;31mFileNotFoundError\u001b[0m                         Traceback (most recent call last)",
      "Cell \u001b[1;32mIn [14], line 3\u001b[0m\n\u001b[0;32m      1\u001b[0m data_drift_report \u001b[39m=\u001b[39m Report(metrics\u001b[39m=\u001b[39m[DataDriftPreset()])\n\u001b[0;32m      2\u001b[0m data_drift_report\u001b[39m.\u001b[39mrun(reference_data\u001b[39m=\u001b[39mX_train, current_data\u001b[39m=\u001b[39mX_test)\n\u001b[1;32m----> 3\u001b[0m data_drift_report\u001b[39m.\u001b[39msave_html(\u001b[39m\"\u001b[39m\u001b[39mDatadrift_check_dashboard.html\u001b[39m\u001b[39m\"\u001b[39m)\n",
      "File \u001b[1;32mc:\\Users\\matth\\miniconda3\\lib\\site-packages\\evidently\\suite\\base_suite.py:140\u001b[0m, in \u001b[0;36mDisplay.save_html\u001b[1;34m(self, filename, mode)\u001b[0m\n\u001b[0;32m    134\u001b[0m     template_params \u001b[39m=\u001b[39m TemplateParams(\n\u001b[0;32m    135\u001b[0m         dashboard_id\u001b[39m=\u001b[39mdashboard_id,\n\u001b[0;32m    136\u001b[0m         dashboard_info\u001b[39m=\u001b[39mdashboard_info,\n\u001b[0;32m    137\u001b[0m         additional_graphs\u001b[39m=\u001b[39mgraphs,\n\u001b[0;32m    138\u001b[0m     )\n\u001b[0;32m    139\u001b[0m     \u001b[39mwith\u001b[39;00m \u001b[39mopen\u001b[39m(filename, \u001b[39m\"\u001b[39m\u001b[39mw\u001b[39m\u001b[39m\"\u001b[39m, encoding\u001b[39m=\u001b[39m\u001b[39m\"\u001b[39m\u001b[39mutf-8\u001b[39m\u001b[39m\"\u001b[39m) \u001b[39mas\u001b[39;00m out_file:\n\u001b[1;32m--> 140\u001b[0m         out_file\u001b[39m.\u001b[39mwrite(\u001b[39mself\u001b[39;49m\u001b[39m.\u001b[39;49m_render(determine_template(\u001b[39m\"\u001b[39;49m\u001b[39minline\u001b[39;49m\u001b[39m\"\u001b[39;49m), template_params))\n\u001b[0;32m    141\u001b[0m \u001b[39melse\u001b[39;00m:\n\u001b[0;32m    142\u001b[0m     font_file, lib_file \u001b[39m=\u001b[39m save_lib_files(filename, mode)\n",
      "File \u001b[1;32mc:\\Users\\matth\\miniconda3\\lib\\site-packages\\evidently\\suite\\base_suite.py:181\u001b[0m, in \u001b[0;36mDisplay._render\u001b[1;34m(self, temple_func, template_params)\u001b[0m\n\u001b[0;32m    180\u001b[0m \u001b[39mdef\u001b[39;00m \u001b[39m_render\u001b[39m(\u001b[39mself\u001b[39m, temple_func, template_params: TemplateParams):\n\u001b[1;32m--> 181\u001b[0m     \u001b[39mreturn\u001b[39;00m temple_func(params\u001b[39m=\u001b[39;49mtemplate_params)\n",
      "File \u001b[1;32mc:\\Users\\matth\\miniconda3\\lib\\site-packages\\evidently\\utils\\dashboard.py:134\u001b[0m, in \u001b[0;36mfile_html_template\u001b[1;34m(params)\u001b[0m\n\u001b[0;32m    133\u001b[0m \u001b[39mdef\u001b[39;00m \u001b[39mfile_html_template\u001b[39m(params: TemplateParams):\n\u001b[1;32m--> 134\u001b[0m     lib_block \u001b[39m=\u001b[39m \u001b[39mf\u001b[39m\u001b[39m\"\"\"\u001b[39m\u001b[39m<script>\u001b[39m\u001b[39m{\u001b[39;00m__load_js()\u001b[39m}\u001b[39;00m\u001b[39m</script>\u001b[39m\u001b[39m\"\"\"\u001b[39m \u001b[39mif\u001b[39;00m params\u001b[39m.\u001b[39membed_lib \u001b[39melse\u001b[39;00m \u001b[39m\"\u001b[39m\u001b[39m<!-- no embedded lib -->\u001b[39m\u001b[39m\"\u001b[39m\n\u001b[0;32m    135\u001b[0m     data_block \u001b[39m=\u001b[39m (\n\u001b[0;32m    136\u001b[0m         \u001b[39mf\u001b[39m\u001b[39m\"\"\"\u001b[39m\u001b[39m<script>\u001b[39m\n\u001b[0;32m    137\u001b[0m \u001b[39m    var \u001b[39m\u001b[39m{\u001b[39;00mparams\u001b[39m.\u001b[39mdashboard_id\u001b[39m}\u001b[39;00m\u001b[39m = \u001b[39m\u001b[39m{\u001b[39;00mdashboard_info_to_json(params\u001b[39m.\u001b[39mdashboard_info)\u001b[39m}\u001b[39;00m\u001b[39m;\u001b[39m\n\u001b[1;32m   (...)\u001b[0m\n\u001b[0;32m    141\u001b[0m         \u001b[39melse\u001b[39;00m \u001b[39m\"\u001b[39m\u001b[39m<!-- no embedded data -->\u001b[39m\u001b[39m\"\u001b[39m\n\u001b[0;32m    142\u001b[0m     )\n\u001b[0;32m    143\u001b[0m     js_files_block \u001b[39m=\u001b[39m \u001b[39m\"\u001b[39m\u001b[39m\\n\u001b[39;00m\u001b[39m\"\u001b[39m\u001b[39m.\u001b[39mjoin([\u001b[39mf\u001b[39m\u001b[39m'\u001b[39m\u001b[39m<script src=\u001b[39m\u001b[39m\"\u001b[39m\u001b[39m{\u001b[39;00mfile\u001b[39m}\u001b[39;00m\u001b[39m\"\u001b[39m\u001b[39m></script>\u001b[39m\u001b[39m'\u001b[39m \u001b[39mfor\u001b[39;00m file \u001b[39min\u001b[39;00m params\u001b[39m.\u001b[39minclude_js_files])\n",
      "File \u001b[1;32mc:\\Users\\matth\\miniconda3\\lib\\site-packages\\evidently\\utils\\dashboard.py:191\u001b[0m, in \u001b[0;36m__load_js\u001b[1;34m()\u001b[0m\n\u001b[0;32m    190\u001b[0m \u001b[39mdef\u001b[39;00m \u001b[39m__load_js\u001b[39m():\n\u001b[1;32m--> 191\u001b[0m     \u001b[39mreturn\u001b[39;00m \u001b[39mopen\u001b[39;49m(os\u001b[39m.\u001b[39;49mpath\u001b[39m.\u001b[39;49mjoin(STATIC_PATH, \u001b[39m\"\u001b[39;49m\u001b[39mindex.js\u001b[39;49m\u001b[39m\"\u001b[39;49m), encoding\u001b[39m=\u001b[39;49m\u001b[39m\"\u001b[39;49m\u001b[39mutf-8\u001b[39;49m\u001b[39m\"\u001b[39;49m)\u001b[39m.\u001b[39mread()\n",
      "\u001b[1;31mFileNotFoundError\u001b[0m: [Errno 2] No such file or directory: 'c:\\\\Users\\\\matth\\\\miniconda3\\\\lib\\\\site-packages\\\\evidently\\\\nbextension\\\\static\\\\index.js'"
     ]
    }
   ],
   "source": [
    "data_drift_report = Report(metrics=[DataDriftPreset()])\n",
    "data_drift_report.run(reference_data=X_train, current_data=X_test)\n",
    "data_drift_report.save_html(\"Datadrift_check_dashboard.html\")"
   ]
  }
 ],
 "metadata": {
  "kernelspec": {
   "display_name": "Python 3 (ipykernel)",
   "language": "python",
   "name": "python3"
  },
  "language_info": {
   "codemirror_mode": {
    "name": "ipython",
    "version": 3
   },
   "file_extension": ".py",
   "mimetype": "text/x-python",
   "name": "python",
   "nbconvert_exporter": "python",
   "pygments_lexer": "ipython3",
   "version": "3.9.12 (main, Apr  4 2022, 05:22:27) [MSC v.1916 64 bit (AMD64)]"
  },
  "vscode": {
   "interpreter": {
    "hash": "45d19848d12ee2d035bbcbbeda7edc9c8488bb313e6ee8db21563ee39031f7e3"
   }
  }
 },
 "nbformat": 4,
 "nbformat_minor": 5
}
