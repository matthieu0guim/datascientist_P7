{
 "cells": [
  {
   "cell_type": "code",
   "execution_count": 1,
   "id": "a7762717",
   "metadata": {},
   "outputs": [
    {
     "name": "stderr",
     "output_type": "stream",
     "text": [
      "C:\\Users\\matth\\miniconda3\\lib\\site-packages\\evidently\\analyzers\\__init__.py:3: UserWarning: analyzers are deprecated, use metrics instead\n",
      "  warnings.warn(\"analyzers are deprecated, use metrics instead\")\n",
      "C:\\Users\\matth\\miniconda3\\lib\\site-packages\\evidently\\dashboard\\__init__.py:8: UserWarning: dashboards are deprecated, use metrics instead\n",
      "  warnings.warn(\"dashboards are deprecated, use metrics instead\")\n"
     ]
    }
   ],
   "source": [
    "import pandas as pd\n",
    "import numpy as np\n",
    "from evidently.report import Report\n",
    "from evidently.metric_preset import DataDriftPreset\n"
   ]
  },
  {
   "cell_type": "code",
   "execution_count": 2,
   "id": "d46b7577-8274-4786-8554-0aca0420e6ae",
   "metadata": {},
   "outputs": [],
   "source": [
    "X_train = pd.read_csv(\"X_train.csv\")\n",
    "y_train = pd.read_csv(\"y_train.csv\") \n",
    "X_test =  pd.read_csv(\"X_test.csv\")\n",
    "y_pred =  pd.read_csv(\"y_pred.csv\")[\"0\"]\n",
    "y_test = pd.read_csv(\"y_test.csv\")"
   ]
  },
  {
   "cell_type": "code",
   "execution_count": 3,
   "id": "d4a63f4e-dc39-4125-a216-fd15b2cf2934",
   "metadata": {},
   "outputs": [
    {
     "data": {
      "text/plain": [
       "((100, 133), (100, 133))"
      ]
     },
     "execution_count": 3,
     "metadata": {},
     "output_type": "execute_result"
    }
   ],
   "source": [
    "X_train.shape, X_test.shape"
   ]
  },
  {
   "cell_type": "code",
   "execution_count": 8,
   "id": "b1c3d8d8-5383-4c38-83b2-204172740119",
   "metadata": {},
   "outputs": [
    {
     "data": {
      "text/plain": [
       "0     0\n",
       "1     0\n",
       "2     1\n",
       "3     1\n",
       "4     1\n",
       "     ..\n",
       "95    0\n",
       "96    0\n",
       "97    0\n",
       "98    0\n",
       "99    1\n",
       "Name: 0, Length: 100, dtype: int64"
      ]
     },
     "execution_count": 8,
     "metadata": {},
     "output_type": "execute_result"
    }
   ],
   "source": [
    "y_pred"
   ]
  },
  {
   "cell_type": "code",
   "execution_count": 9,
   "id": "d4473892-0f0f-4a55-a4ba-f13d4088f87b",
   "metadata": {},
   "outputs": [],
   "source": [
    "X_train[\"target\"] = y_train['TARGET']\n",
    "\n",
    "X_test[\"target\"] = y_pred"
   ]
  },
  {
   "cell_type": "raw",
   "id": "a9d8b775-4570-4575-b981-53251d029d63",
   "metadata": {},
   "source": [
    "X_test[\"target\"] = y_test"
   ]
  },
  {
   "cell_type": "code",
   "execution_count": 10,
   "id": "a51e0ed0",
   "metadata": {},
   "outputs": [],
   "source": [
    "data_drift_report = Report(metrics=[DataDriftPreset()])\n",
    "data_drift_report.run(reference_data=X_train, current_data=X_test)\n",
    "data_drift_report.save_html(\"Datadrift_check_dashboard.html\")"
   ]
  }
 ],
 "metadata": {
  "kernelspec": {
   "display_name": "Python 3 (ipykernel)",
   "language": "python",
   "name": "python3"
  },
  "language_info": {
   "codemirror_mode": {
    "name": "ipython",
    "version": 3
   },
   "file_extension": ".py",
   "mimetype": "text/x-python",
   "name": "python",
   "nbconvert_exporter": "python",
   "pygments_lexer": "ipython3",
   "version": "3.9.12"
  },
  "vscode": {
   "interpreter": {
    "hash": "45d19848d12ee2d035bbcbbeda7edc9c8488bb313e6ee8db21563ee39031f7e3"
   }
  }
 },
 "nbformat": 4,
 "nbformat_minor": 5
}
